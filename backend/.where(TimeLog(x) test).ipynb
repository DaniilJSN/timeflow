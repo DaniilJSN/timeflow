{
 "cells": [
  {
   "cell_type": "code",
   "execution_count": 83,
   "id": "947e5288",
   "metadata": {},
   "outputs": [],
   "source": [
    "from fastapi import FastAPI\n",
    "from sqlmodel import Session, select, SQLModel\n",
    "from sqlalchemy.exc import OperationalError\n",
    "from models import Epic, TimeLog, User, engine, create_db\n",
    "import datetime\n",
    "from sqlalchemy.orm.attributes import InstrumentedAttribute"
   ]
  },
  {
   "cell_type": "code",
   "execution_count": 84,
   "id": "177b4b83",
   "metadata": {},
   "outputs": [],
   "source": [
    "app = FastAPI()\n",
    "session = Session(engine)"
   ]
  },
  {
   "cell_type": "code",
   "execution_count": 85,
   "id": "e06c3c0d",
   "metadata": {},
   "outputs": [],
   "source": [
    "def string_to_datetime(date_string):\n",
    "    date = datetime.datetime.strptime(date_string, \"%Y-%m-%dT%H:%M:%S.%fZ\")\n",
    "    return date\n",
    "\n",
    "def datetime_to_string(date_date):\n",
    "    date_string = date_date.strftime(\"%m/%d/%Y, %H:%M:%S\")\n",
    "    return date_string\n"
   ]
  },
  {
   "cell_type": "code",
   "execution_count": 88,
   "id": "5c64e117",
   "metadata": {},
   "outputs": [],
   "source": [
    "def get_user_worktime_by_epic(user_id, epic_name, start_time, end_time):\n",
    "    statement = select(TimeLog)\\\n",
    "        .where(TimeLog.user_id == user_id)\\\n",
    "        .where(TimeLog.epic_name == epic_name)\\\n",
    "        .where(string_to_datetime(TimeLog.start_time) <= start_time, TimeLog.end_time >= start_time)\n",
    "        #.where(TimeLog.end_time <= end_time)\n",
    "    results = session.exec(statement).all()\n",
    "    by_user = []\n",
    "    for result in results:\n",
    "        starting_time = string_to_datetime(result.start_time)\n",
    "        ending_time = string_to_datetime(result.end_time)\n",
    "        working_time = ending_time - starting_time\n",
    "        by_user.append(working_time)\n",
    "    l_sum = sum(by_user, datetime.timedelta())\n",
    "    work_time_sum = str(l_sum)\n",
    "    msg = f\"\"\"total work time spent by user {user_id} is {work_time_sum}\"\"\"    \n",
    "    return msg\n",
    "    print(string_to_datetime(TimeLog.start_time))"
   ]
  },
  {
   "cell_type": "code",
   "execution_count": 87,
   "id": "ade4dcd8",
   "metadata": {},
   "outputs": [
    {
     "ename": "TypeError",
     "evalue": "strptime() argument 1 must be str, not InstrumentedAttribute",
     "output_type": "error",
     "traceback": [
      "\u001b[0;31m---------------------------------------------------------------------------\u001b[0m",
      "\u001b[0;31mTypeError\u001b[0m                                 Traceback (most recent call last)",
      "\u001b[0;32m/tmp/ipykernel_51744/2269393776.py\u001b[0m in \u001b[0;36m<module>\u001b[0;34m\u001b[0m\n\u001b[0;32m----> 1\u001b[0;31m \u001b[0mget_user_worktime_by_epic\u001b[0m\u001b[0;34m(\u001b[0m\u001b[0;34m\"JS\"\u001b[0m\u001b[0;34m,\u001b[0m \u001b[0;34m\"NorthPole\"\u001b[0m\u001b[0;34m,\u001b[0m \u001b[0;34m\"2021-10-16T21:36:00.000Z\"\u001b[0m\u001b[0;34m,\u001b[0m \u001b[0;34m\"2021-10-17T14:36:00.000Z\"\u001b[0m\u001b[0;34m)\u001b[0m\u001b[0;34m\u001b[0m\u001b[0;34m\u001b[0m\u001b[0m\n\u001b[0m",
      "\u001b[0;32m/tmp/ipykernel_51744/2244624575.py\u001b[0m in \u001b[0;36mget_user_worktime_by_epic\u001b[0;34m(user_id, epic_name, start_time, end_time)\u001b[0m\n\u001b[1;32m      3\u001b[0m         \u001b[0;34m.\u001b[0m\u001b[0mwhere\u001b[0m\u001b[0;34m(\u001b[0m\u001b[0mTimeLog\u001b[0m\u001b[0;34m.\u001b[0m\u001b[0muser_id\u001b[0m \u001b[0;34m==\u001b[0m \u001b[0muser_id\u001b[0m\u001b[0;34m)\u001b[0m\u001b[0;31m\\\u001b[0m\u001b[0;34m\u001b[0m\u001b[0;34m\u001b[0m\u001b[0m\n\u001b[1;32m      4\u001b[0m         \u001b[0;34m.\u001b[0m\u001b[0mwhere\u001b[0m\u001b[0;34m(\u001b[0m\u001b[0mTimeLog\u001b[0m\u001b[0;34m.\u001b[0m\u001b[0mepic_name\u001b[0m \u001b[0;34m==\u001b[0m \u001b[0mepic_name\u001b[0m\u001b[0;34m)\u001b[0m\u001b[0;31m\\\u001b[0m\u001b[0;34m\u001b[0m\u001b[0;34m\u001b[0m\u001b[0m\n\u001b[0;32m----> 5\u001b[0;31m         \u001b[0;34m.\u001b[0m\u001b[0mwhere\u001b[0m\u001b[0;34m(\u001b[0m\u001b[0mstring_to_datetime\u001b[0m\u001b[0;34m(\u001b[0m\u001b[0mTimeLog\u001b[0m\u001b[0;34m.\u001b[0m\u001b[0mstart_time\u001b[0m\u001b[0;34m)\u001b[0m \u001b[0;34m<=\u001b[0m \u001b[0mstart_time\u001b[0m\u001b[0;34m,\u001b[0m \u001b[0mTimeLog\u001b[0m\u001b[0;34m.\u001b[0m\u001b[0mend_time\u001b[0m \u001b[0;34m>=\u001b[0m \u001b[0mstart_time\u001b[0m\u001b[0;34m)\u001b[0m\u001b[0;34m\u001b[0m\u001b[0;34m\u001b[0m\u001b[0m\n\u001b[0m\u001b[1;32m      6\u001b[0m         \u001b[0;31m#.where(TimeLog.end_time <= end_time)\u001b[0m\u001b[0;34m\u001b[0m\u001b[0;34m\u001b[0m\u001b[0;34m\u001b[0m\u001b[0m\n\u001b[1;32m      7\u001b[0m     \u001b[0mresults\u001b[0m \u001b[0;34m=\u001b[0m \u001b[0msession\u001b[0m\u001b[0;34m.\u001b[0m\u001b[0mexec\u001b[0m\u001b[0;34m(\u001b[0m\u001b[0mstatement\u001b[0m\u001b[0;34m)\u001b[0m\u001b[0;34m.\u001b[0m\u001b[0mall\u001b[0m\u001b[0;34m(\u001b[0m\u001b[0;34m)\u001b[0m\u001b[0;34m\u001b[0m\u001b[0;34m\u001b[0m\u001b[0m\n",
      "\u001b[0;32m/tmp/ipykernel_51744/2783622003.py\u001b[0m in \u001b[0;36mstring_to_datetime\u001b[0;34m(date_string)\u001b[0m\n\u001b[1;32m      1\u001b[0m \u001b[0;32mdef\u001b[0m \u001b[0mstring_to_datetime\u001b[0m\u001b[0;34m(\u001b[0m\u001b[0mdate_string\u001b[0m\u001b[0;34m)\u001b[0m\u001b[0;34m:\u001b[0m\u001b[0;34m\u001b[0m\u001b[0;34m\u001b[0m\u001b[0m\n\u001b[0;32m----> 2\u001b[0;31m     \u001b[0mdate\u001b[0m \u001b[0;34m=\u001b[0m \u001b[0mdatetime\u001b[0m\u001b[0;34m.\u001b[0m\u001b[0mdatetime\u001b[0m\u001b[0;34m.\u001b[0m\u001b[0mstrptime\u001b[0m\u001b[0;34m(\u001b[0m\u001b[0mdate_string\u001b[0m\u001b[0;34m,\u001b[0m \u001b[0;34m\"%Y-%m-%dT%H:%M:%S.%fZ\"\u001b[0m\u001b[0;34m)\u001b[0m\u001b[0;34m\u001b[0m\u001b[0;34m\u001b[0m\u001b[0m\n\u001b[0m\u001b[1;32m      3\u001b[0m     \u001b[0;32mreturn\u001b[0m \u001b[0mdate\u001b[0m\u001b[0;34m\u001b[0m\u001b[0;34m\u001b[0m\u001b[0m\n\u001b[1;32m      4\u001b[0m \u001b[0;34m\u001b[0m\u001b[0m\n\u001b[1;32m      5\u001b[0m \u001b[0;32mdef\u001b[0m \u001b[0mdatetime_to_string\u001b[0m\u001b[0;34m(\u001b[0m\u001b[0mdate_date\u001b[0m\u001b[0;34m)\u001b[0m\u001b[0;34m:\u001b[0m\u001b[0;34m\u001b[0m\u001b[0;34m\u001b[0m\u001b[0m\n",
      "\u001b[0;31mTypeError\u001b[0m: strptime() argument 1 must be str, not InstrumentedAttribute"
     ]
    }
   ],
   "source": [
    "get_user_worktime_by_epic(\"JS\", \"NorthPole\", \"2021-10-16T21:36:00.000Z\", \"2021-10-17T14:36:00.000Z\")"
   ]
  },
  {
   "cell_type": "code",
   "execution_count": null,
   "id": "f20b3c63",
   "metadata": {},
   "outputs": [],
   "source": []
  }
 ],
 "metadata": {
  "kernelspec": {
   "display_name": "Python 3 (ipykernel)",
   "language": "python",
   "name": "python3"
  },
  "language_info": {
   "codemirror_mode": {
    "name": "ipython",
    "version": 3
   },
   "file_extension": ".py",
   "mimetype": "text/x-python",
   "name": "python",
   "nbconvert_exporter": "python",
   "pygments_lexer": "ipython3",
   "version": "3.8.10"
  }
 },
 "nbformat": 4,
 "nbformat_minor": 5
}
