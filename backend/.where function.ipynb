{
 "cells": [
  {
   "cell_type": "code",
   "execution_count": 7,
   "id": "4b3f4037",
   "metadata": {},
   "outputs": [],
   "source": [
    "from fastapi import FastAPI\n",
    "from sqlmodel import Session, select, SQLModel\n",
    "from sqlalchemy.exc import OperationalError\n",
    "from models import Epic, TimeLog, User, engine, create_db\n",
    "import datetime"
   ]
  },
  {
   "cell_type": "code",
   "execution_count": 8,
   "id": "c3056087",
   "metadata": {},
   "outputs": [],
   "source": [
    "app = FastAPI()\n",
    "session = Session(engine)"
   ]
  },
  {
   "cell_type": "code",
   "execution_count": 9,
   "id": "36f615a9",
   "metadata": {},
   "outputs": [],
   "source": [
    "def string_to_datetime(date_string):\n",
    "    date = datetime.datetime.strptime(date_string, \"%Y-%m-%dT%H:%M:%S.%fZ\")\n",
    "    return date"
   ]
  },
  {
   "cell_type": "code",
   "execution_count": 10,
   "id": "2f33bf38",
   "metadata": {},
   "outputs": [],
   "source": [
    "def datetime_to_string(date_date):\n",
    "    date_string = date_date.strftime(\"%m/%d/%Y, %H:%M:%S\")\n",
    "    return date_string"
   ]
  },
  {
   "cell_type": "code",
   "execution_count": 11,
   "id": "24114e30",
   "metadata": {},
   "outputs": [],
   "source": [
    "def get_user_worktime_by_epic(user_id, epic_name, start_time, end_time):\n",
    "    start_time_dt = string_to_datetime(start_time)\n",
    "    end_time_dt = string_to_datetime(end_time)\n",
    "    statement = select(TimeLog)\\\n",
    "        .where(TimeLog.user_id == user_id)\\\n",
    "        .where(TimeLog.epic_name == epic_name)\\\n",
    "        .where(string_to_datetime(TimeLog.start_time) >= start_time_dt)\\\n",
    "        .where(string_to_datetime(TimeLog.end_time) <= end_time_dt)\n",
    "    results = session.exec(statement).all()\n",
    "    by_user = []\n",
    "    for result in results:\n",
    "        starting_time = string_to_datetime(result.start_time)\n",
    "        ending_time = string_to_datetime(result.end_time)\n",
    "        working_time = ending_time - starting_time\n",
    "        by_user.append(working_time)\n",
    "    l_sum = sum(by_user, datetime.timedelta())\n",
    "    work_time_sum = str(l_sum)\n",
    "    msg = f\"\"\"total work time spent by user {user_id} from {start_time} to {end_time} on epic {epic_name} is {work_time_sum}\n",
    "            \"\"\"    \n",
    "    return msg"
   ]
  },
  {
   "cell_type": "code",
   "execution_count": null,
   "id": "55b83ed3",
   "metadata": {},
   "outputs": [],
   "source": []
  },
  {
   "cell_type": "code",
   "execution_count": null,
   "id": "b8adbf1c",
   "metadata": {},
   "outputs": [],
   "source": []
  }
 ],
 "metadata": {
  "kernelspec": {
   "display_name": "Python 3 (ipykernel)",
   "language": "python",
   "name": "python3"
  },
  "language_info": {
   "codemirror_mode": {
    "name": "ipython",
    "version": 3
   },
   "file_extension": ".py",
   "mimetype": "text/x-python",
   "name": "python",
   "nbconvert_exporter": "python",
   "pygments_lexer": "ipython3",
   "version": "3.8.10"
  }
 },
 "nbformat": 4,
 "nbformat_minor": 5
}
