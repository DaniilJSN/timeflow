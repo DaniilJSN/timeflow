{
 "cells": [
  {
   "cell_type": "code",
   "execution_count": 56,
   "id": "a99bd5cd",
   "metadata": {},
   "outputs": [],
   "source": [
    "from fastapi import FastAPI\n",
    "from sqlmodel import Session, select, SQLModel\n",
    "from sqlalchemy.exc import OperationalError\n",
    "from models import Epic, TimeLog, User, engine, create_db\n",
    "import datetime"
   ]
  },
  {
   "cell_type": "code",
   "execution_count": 57,
   "id": "25756766",
   "metadata": {},
   "outputs": [],
   "source": [
    "app = FastAPI()\n",
    "session = Session(engine)"
   ]
  },
  {
   "cell_type": "code",
   "execution_count": 58,
   "id": "3d118b12",
   "metadata": {},
   "outputs": [],
   "source": [
    "def string_to_datetime(date_string):\n",
    "    date = datetime.datetime.strptime(date_string, \"%Y-%m-%dT%H:%M:%S.%fZ\")\n",
    "    return date"
   ]
  },
  {
   "cell_type": "code",
   "execution_count": 59,
   "id": "9450f552",
   "metadata": {},
   "outputs": [],
   "source": [
    "def datetime_to_string(date_date):\n",
    "    date_string = date_date.strftime(\"%Y-%m-%dT%H:%M:%S.%fZ\")\n",
    "    return date_string"
   ]
  },
  {
   "cell_type": "code",
   "execution_count": 109,
   "id": "17ddc446",
   "metadata": {},
   "outputs": [
    {
     "data": {
      "text/plain": [
       "'%m/%d/%Y, %H:%M:%S'"
      ]
     },
     "execution_count": 109,
     "metadata": {},
     "output_type": "execute_result"
    }
   ],
   "source": [
    "\"%m/%d/%Y, %H:%M:%S\""
   ]
  },
  {
   "cell_type": "code",
   "execution_count": 113,
   "id": "cdd2a007",
   "metadata": {},
   "outputs": [],
   "source": [
    "def get_user_worktime_by_epic(user_id, epic_name, start_time, end_time):\n",
    "    \n",
    "    statement = select(TimeLog)\\\n",
    "        .where(TimeLog.user_id == user_id)\\\n",
    "        .where(TimeLog.epic_name == epic_name)\\\n",
    "        .where(TimeLog.start_time < end_time, TimeLog.end_time > start_time)\n",
    "    results = session.exec(statement).all()\n",
    "    work_list = []\n",
    "    for result in results:\n",
    "        if result.start_time > start_time and result.end_time < end_time:\n",
    "            working_time = time_period(result.start_time, result.end_time)\n",
    "        elif result.start_time > start_time and result.end_time >= end_time:\n",
    "            working_time = time_period(result.start_time, end_time)\n",
    "        elif result.start_time <= start_time and result.end_time < end_time:\n",
    "            working_time = time_period(start_time, result.end_time)\n",
    "        else:\n",
    "            working_time = time_period(start_time, end_time)\n",
    "        work_list.append(working_time)\n",
    "    l_sum = sum(work_list, datetime.timedelta())\n",
    "    work_time_sum = str(l_sum)\n",
    "    msg = f\"\"\"total work time spent by user {user_id} from {start_time} to {end_time} on epic {epic_name} is {work_time_sum}\n",
    "            \"\"\"    \n",
    "    return msg"
   ]
  },
  {
   "cell_type": "code",
   "execution_count": 114,
   "id": "fbac4cc7",
   "metadata": {
    "scrolled": true
   },
   "outputs": [
    {
     "name": "stdout",
     "output_type": "stream",
     "text": [
      "2021-10-22 13:55:13,524 INFO sqlalchemy.engine.Engine SELECT timelog.id, timelog.user_id, timelog.epic_name, timelog.start_time, timelog.end_time \n",
      "FROM timelog \n",
      "WHERE timelog.user_id = ? AND timelog.epic_name = ? AND timelog.start_time < ? AND timelog.end_time > ?\n",
      "2021-10-22 13:55:13,528 INFO sqlalchemy.engine.Engine [no key 0.00512s] ('AW', 'WestAfghan', '2021-10-18T22:00:00.000Z', '2021-10-17T23:00:00.000Z')\n"
     ]
    },
    {
     "data": {
      "text/plain": [
       "'total work time spent by user AW from 2021-10-17T23:00:00.000Z to 2021-10-18T22:00:00.000Z on epic WestAfghan is 23:00:00\\n            '"
      ]
     },
     "execution_count": 114,
     "metadata": {},
     "output_type": "execute_result"
    }
   ],
   "source": [
    "get_user_worktime_by_epic(\"AW\", \"WestAfghan\", \"2021-10-17T23:00:00.000Z\", \"2021-10-18T22:00:00.000Z\")"
   ]
  },
  {
   "cell_type": "code",
   "execution_count": 88,
   "id": "5071c0fb",
   "metadata": {},
   "outputs": [],
   "source": [
    "a = (\"2021-10-17 22:00:00\")"
   ]
  },
  {
   "cell_type": "code",
   "execution_count": 83,
   "id": "9a062203",
   "metadata": {},
   "outputs": [],
   "source": [
    "b = (\"2021-10-18T22:00:00.000Z\")"
   ]
  },
  {
   "cell_type": "code",
   "execution_count": 84,
   "id": "ffb1cbde",
   "metadata": {},
   "outputs": [
    {
     "data": {
      "text/plain": [
       "True"
      ]
     },
     "execution_count": 84,
     "metadata": {},
     "output_type": "execute_result"
    }
   ],
   "source": [
    "a < b"
   ]
  },
  {
   "cell_type": "code",
   "execution_count": 85,
   "id": "cf9597ee",
   "metadata": {},
   "outputs": [
    {
     "data": {
      "text/plain": [
       "False"
      ]
     },
     "execution_count": 85,
     "metadata": {},
     "output_type": "execute_result"
    }
   ],
   "source": [
    "a > b"
   ]
  },
  {
   "cell_type": "code",
   "execution_count": 86,
   "id": "69045eb5",
   "metadata": {},
   "outputs": [
    {
     "ename": "TypeError",
     "evalue": "unsupported operand type(s) for -: 'str' and 'str'",
     "output_type": "error",
     "traceback": [
      "\u001b[0;31m---------------------------------------------------------------------------\u001b[0m",
      "\u001b[0;31mTypeError\u001b[0m                                 Traceback (most recent call last)",
      "\u001b[0;32m/tmp/ipykernel_6463/3469050394.py\u001b[0m in \u001b[0;36m<module>\u001b[0;34m\u001b[0m\n\u001b[0;32m----> 1\u001b[0;31m \u001b[0mw\u001b[0m \u001b[0;34m=\u001b[0m \u001b[0mb\u001b[0m \u001b[0;34m-\u001b[0m \u001b[0ma\u001b[0m\u001b[0;34m\u001b[0m\u001b[0;34m\u001b[0m\u001b[0m\n\u001b[0m",
      "\u001b[0;31mTypeError\u001b[0m: unsupported operand type(s) for -: 'str' and 'str'"
     ]
    }
   ],
   "source": [
    "w = b - a "
   ]
  },
  {
   "cell_type": "code",
   "execution_count": null,
   "id": "ff3dbdb2",
   "metadata": {},
   "outputs": [],
   "source": []
  }
 ],
 "metadata": {
  "kernelspec": {
   "display_name": "Python 3 (ipykernel)",
   "language": "python",
   "name": "python3"
  },
  "language_info": {
   "codemirror_mode": {
    "name": "ipython",
    "version": 3
   },
   "file_extension": ".py",
   "mimetype": "text/x-python",
   "name": "python",
   "nbconvert_exporter": "python",
   "pygments_lexer": "ipython3",
   "version": "3.8.10"
  }
 },
 "nbformat": 4,
 "nbformat_minor": 5
}
