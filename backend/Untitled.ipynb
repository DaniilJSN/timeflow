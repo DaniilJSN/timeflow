{
 "cells": [
  {
   "cell_type": "code",
   "execution_count": 1,
   "id": "201f35c3",
   "metadata": {},
   "outputs": [],
   "source": [
    "from fastapi import FastAPI\n",
    "from sqlmodel import Session, select, SQLModel\n",
    "from sqlalchemy.exc import OperationalError\n",
    "from models import Epic, TimeLog, User, engine, create_db, Client\n",
    "from utils import string_to_datetime\n",
    "import datetime"
   ]
  },
  {
   "cell_type": "code",
   "execution_count": 2,
   "id": "12a5ae23",
   "metadata": {},
   "outputs": [],
   "source": [
    "app = FastAPI()\n",
    "session = Session(engine)"
   ]
  },
  {
   "cell_type": "code",
   "execution_count": 8,
   "id": "c3966f85",
   "metadata": {},
   "outputs": [],
   "source": [
    "@app.get(\"/api/ddashboard/work_days/{select_initials},{select_month},{select_epic}\")\n",
    "async def get_ddashboard_work_days(\n",
    "    select_initials: str, select_month: str, select_epic: str\n",
    ") -> str:\n",
    "\n",
    "    select_month_cut = select_month[:33]\n",
    "    monthstr_to_dt = string_to_datetime_GMT(select_month_cut)\n",
    "    month_from_dt = monthstr_to_dt.month\n",
    "\n",
    "    statement = (\n",
    "        select(TimeLog.work_hours)\n",
    "        .where(TimeLog.user_initials == select_initials)\n",
    "        .where(TimeLog.month == month_from_dt)\n",
    "        .where(TimeLog.epic_name == select_epic)\n",
    "    )\n",
    "    work_hours_list = []\n",
    "    results = session.exec(statement).all()\n",
    "    for result in results:\n",
    "        work_hours_list.append(result)\n",
    "\n",
    "    work_days = sum(work_hours_list) / 8\n",
    "    work_days_str = str(work_days)\n",
    "    return work_days_str\n"
   ]
  },
  {
   "cell_type": "code",
   "execution_count": 15,
   "id": "e4638e1f",
   "metadata": {},
   "outputs": [],
   "source": [
    "a = get_ddashboard_work_days(\"AW\", \"wannowanie\", \"Mon Nov 01 2021 01:00:00 GMT+0100 (Central European Standard Time)\")"
   ]
  },
  {
   "cell_type": "code",
   "execution_count": 16,
   "id": "43827fa4",
   "metadata": {},
   "outputs": [
    {
     "data": {
      "text/plain": [
       "<coroutine object get_ddashboard_work_days at 0x7f7b1bcf3640>"
      ]
     },
     "execution_count": 16,
     "metadata": {},
     "output_type": "execute_result"
    }
   ],
   "source": [
    "a"
   ]
  },
  {
   "cell_type": "code",
   "execution_count": null,
   "id": "0d66b72b",
   "metadata": {},
   "outputs": [],
   "source": []
  },
  {
   "cell_type": "code",
   "execution_count": null,
   "id": "17b996fb",
   "metadata": {},
   "outputs": [],
   "source": []
  }
 ],
 "metadata": {
  "kernelspec": {
   "display_name": "Python 3 (ipykernel)",
   "language": "python",
   "name": "python3"
  },
  "language_info": {
   "codemirror_mode": {
    "name": "ipython",
    "version": 3
   },
   "file_extension": ".py",
   "mimetype": "text/x-python",
   "name": "python",
   "nbconvert_exporter": "python",
   "pygments_lexer": "ipython3",
   "version": "3.8.10"
  }
 },
 "nbformat": 4,
 "nbformat_minor": 5
}
