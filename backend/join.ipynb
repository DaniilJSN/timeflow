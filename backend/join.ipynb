{
 "cells": [
  {
   "cell_type": "code",
   "execution_count": 16,
   "id": "159a1f2e",
   "metadata": {},
   "outputs": [],
   "source": [
    "from models.user import User\n",
    "from models.timelog import TimeLog\n",
    "from models.epic import Epic\n",
    "from models.client import Client"
   ]
  },
  {
   "cell_type": "code",
   "execution_count": 17,
   "id": "e427a3d5",
   "metadata": {},
   "outputs": [],
   "source": [
    "import datetime\n",
    "from sqlmodel import Session, select, SQLModel, create_engine"
   ]
  },
  {
   "cell_type": "code",
   "execution_count": 18,
   "id": "662556cb",
   "metadata": {},
   "outputs": [],
   "source": [
    "con_str = f\"sqlite:///database.sqlite\"\n",
    "engine = create_engine(con_str, echo=True)"
   ]
  },
  {
   "cell_type": "code",
   "execution_count": 19,
   "id": "d6fafe09",
   "metadata": {},
   "outputs": [],
   "source": [
    "session = Session(engine)"
   ]
  },
  {
   "cell_type": "code",
   "execution_count": 21,
   "id": "d6cde71e",
   "metadata": {
    "scrolled": true
   },
   "outputs": [
    {
     "name": "stdout",
     "output_type": "stream",
     "text": [
      "2021-12-16 18:37:11,245 INFO sqlalchemy.engine.Engine SELECT user.id \n",
      "FROM user\n",
      "2021-12-16 18:37:11,249 INFO sqlalchemy.engine.Engine [no key 0.00429s] ()\n"
     ]
    },
    {
     "data": {
      "text/plain": [
       "[2, 1, 3]"
      ]
     },
     "execution_count": 21,
     "metadata": {},
     "output_type": "execute_result"
    }
   ],
   "source": [
    "statement = select(User.id)\n",
    "results = session.exec(statement).all()\n",
    "results"
   ]
  },
  {
   "cell_type": "code",
   "execution_count": 5,
   "id": "a5621f36",
   "metadata": {},
   "outputs": [],
   "source": [
    "def get_client_epic_join_table(): \n",
    "    statement = select(Epic.name, Client.name).join(Client, isouter=True)\n",
    "    joined_table = session.exec(statement).all()\n",
    "    a = []\n",
    "    for epic_name, client_name in joined_table:\n",
    "        a.append((epic_name, client_name))\n",
    "    return a"
   ]
  },
  {
   "cell_type": "code",
   "execution_count": 6,
   "id": "b2c2e6bc",
   "metadata": {},
   "outputs": [],
   "source": [
    "def get_client_name(epic_name: str): \n",
    "    statement = select(Epic.name, Client.name).join(Client, isouter=True)\n",
    "    joined_table = session.exec(statement).all()\n",
    "    a = []\n",
    "    for epic, client in joined_table:\n",
    "        if epic == epic_name:\n",
    "            client_name = client\n",
    "    return client_name"
   ]
  },
  {
   "cell_type": "code",
   "execution_count": 11,
   "id": "6ac45bb9",
   "metadata": {
    "scrolled": true
   },
   "outputs": [
    {
     "name": "stdout",
     "output_type": "stream",
     "text": [
      "2021-12-16 16:17:57,753 INFO sqlalchemy.engine.Engine BEGIN (implicit)\n",
      "2021-12-16 16:17:57,768 INFO sqlalchemy.engine.Engine SELECT epic.id, epic.name, timelog.id AS id_1, user.name AS name_1, client.name AS name_2 \n",
      "FROM timelog LEFT OUTER JOIN epic ON epic.id = timelog.epic_id LEFT OUTER JOIN client ON client.id = epic.client_id LEFT OUTER JOIN user ON user.id = timelog.user_id\n",
      "2021-12-16 16:17:57,773 INFO sqlalchemy.engine.Engine [no key 0.00545s] ()\n"
     ]
    },
    {
     "data": {
      "text/plain": [
       "[]"
      ]
     },
     "execution_count": 11,
     "metadata": {},
     "output_type": "execute_result"
    }
   ],
   "source": [
    "statement = select(Epic.id, Epic.name, TimeLog.id, User.name, Client.name\n",
    "                  ).select_from(TimeLog).join(Epic, isouter = True\n",
    "                  ).join(Client, isouter = True\n",
    "                  ).join(User, isouter = True)\n",
    "\n",
    "joined_table = session.exec(statement).all()\n",
    "joined_table"
   ]
  },
  {
   "cell_type": "code",
   "execution_count": 19,
   "id": "9977d79b",
   "metadata": {
    "scrolled": true
   },
   "outputs": [
    {
     "name": "stdout",
     "output_type": "stream",
     "text": [
      "2021-12-16 15:13:54,722 INFO sqlalchemy.engine.Engine SELECT epic.name, client.name AS name_1 \n",
      "FROM epic LEFT OUTER JOIN client ON client.id = epic.client_id\n",
      "2021-12-16 15:13:54,724 INFO sqlalchemy.engine.Engine [no key 0.00173s] ()\n"
     ]
    },
    {
     "data": {
      "text/plain": [
       "[('tables', 'CARPENTER'),\n",
       " ('enging', 'Engix'),\n",
       " ('menging', 'Engix'),\n",
       " ('pipes', 'Plumber'),\n",
       " ('sink', 'Plumber')]"
      ]
     },
     "execution_count": 19,
     "metadata": {},
     "output_type": "execute_result"
    }
   ],
   "source": [
    "z = get_client_epic_join_table()\n",
    "z"
   ]
  },
  {
   "cell_type": "code",
   "execution_count": 20,
   "id": "70310552",
   "metadata": {},
   "outputs": [
    {
     "name": "stdout",
     "output_type": "stream",
     "text": [
      "2021-12-16 15:13:54,851 INFO sqlalchemy.engine.Engine SELECT epic.name, client.name AS name_1 \n",
      "FROM epic LEFT OUTER JOIN client ON client.id = epic.client_id\n",
      "2021-12-16 15:13:54,854 INFO sqlalchemy.engine.Engine [no key 0.00283s] ()\n"
     ]
    },
    {
     "data": {
      "text/plain": [
       "'Plumber'"
      ]
     },
     "execution_count": 20,
     "metadata": {},
     "output_type": "execute_result"
    }
   ],
   "source": [
    "y = get_client_name(\"pipes\")\n",
    "y"
   ]
  },
  {
   "cell_type": "code",
   "execution_count": null,
   "id": "6f4c8ed4",
   "metadata": {},
   "outputs": [],
   "source": []
  }
 ],
 "metadata": {
  "kernelspec": {
   "display_name": "Python 3 (ipykernel)",
   "language": "python",
   "name": "python3"
  },
  "language_info": {
   "codemirror_mode": {
    "name": "ipython",
    "version": 3
   },
   "file_extension": ".py",
   "mimetype": "text/x-python",
   "name": "python",
   "nbconvert_exporter": "python",
   "pygments_lexer": "ipython3",
   "version": "3.8.10"
  }
 },
 "nbformat": 4,
 "nbformat_minor": 5
}
